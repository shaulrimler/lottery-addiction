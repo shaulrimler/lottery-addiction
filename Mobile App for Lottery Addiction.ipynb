{
 "cells": [
  {
   "cell_type": "markdown",
   "id": "abb0765c",
   "metadata": {},
   "source": [
    "# The Chances of Winning the 6/49 Lottery\n",
    "### A team of engineers are creating an app to assist with lottery addiction. We will be performing probability calculations to provide them with statistical and emperical data.\n",
    "To discourage lottery participation, the group wishes to exhibit just how slim the chances of winning is, using statistics and past data. To this affect we will be creating a few systems:\n",
    "- A function displaying the chances of winning the jackpot with any given number.\n",
    "- A function showing the amount of times a given lottery number was drawn as the winning number in the 40 years of the lottery's history.\n",
    "- A function displaying the chances of winning for multiple tickets.\n",
    "- A function displaying the chances of winning smaller prizes, for 2-5 matching numbers."
   ]
  },
  {
   "cell_type": "code",
   "execution_count": 1,
   "id": "c7593801",
   "metadata": {},
   "outputs": [],
   "source": [
    "import numpy as np\n",
    "import pandas as pd"
   ]
  },
  {
   "cell_type": "markdown",
   "id": "580cff45",
   "metadata": {},
   "source": [
    "We begin with creating functions to be used for calculating the factorial and combinations of any number."
   ]
  },
  {
   "cell_type": "code",
   "execution_count": 2,
   "id": "135c2b8f",
   "metadata": {},
   "outputs": [],
   "source": [
    "def factorial(n):\n",
    "    total = 1\n",
    "    for i in range(n, 0, -1):\n",
    "        total *= i\n",
    "    return total\n",
    "def combinations(n,k):\n",
    "    numerator = factorial(n)\n",
    "    denominator = factorial(k) * factorial(n-k)\n",
    "    return numerator / denominator"
   ]
  },
  {
   "cell_type": "markdown",
   "id": "d2c653ce",
   "metadata": {},
   "source": [
    "## Chances of winning the Jackpot"
   ]
  },
  {
   "cell_type": "code",
   "execution_count": 3,
   "id": "0cfa6ae1",
   "metadata": {},
   "outputs": [
    {
     "data": {
      "text/plain": [
       "'Chances of winning with one ticket: 0.000007%'"
      ]
     },
     "metadata": {},
     "output_type": "display_data"
    },
    {
     "data": {
      "text/plain": [
       "'1 in 13,983,816 tickets will be the winning number'"
      ]
     },
     "metadata": {},
     "output_type": "display_data"
    }
   ],
   "source": [
    "possible_numbers = combinations(49, 6)\n",
    "one_ticket_chances = 1 / possible_numbers\n",
    "display('Chances of winning with one ticket: {:.6f}%'.format(one_ticket_chances * 100))\n",
    "display('1 in {:,} tickets will be the winning number'.format(int(possible_numbers)))"
   ]
  },
  {
   "cell_type": "markdown",
   "id": "8ff299ae",
   "metadata": {},
   "source": [
    "## Times a given number has won"
   ]
  },
  {
   "cell_type": "code",
   "execution_count": 4,
   "id": "ea74fd70",
   "metadata": {},
   "outputs": [
    {
     "data": {
      "text/html": [
       "<div>\n",
       "<style scoped>\n",
       "    .dataframe tbody tr th:only-of-type {\n",
       "        vertical-align: middle;\n",
       "    }\n",
       "\n",
       "    .dataframe tbody tr th {\n",
       "        vertical-align: top;\n",
       "    }\n",
       "\n",
       "    .dataframe thead th {\n",
       "        text-align: right;\n",
       "    }\n",
       "</style>\n",
       "<table border=\"1\" class=\"dataframe\">\n",
       "  <thead>\n",
       "    <tr style=\"text-align: right;\">\n",
       "      <th></th>\n",
       "      <th>PRODUCT</th>\n",
       "      <th>DRAW NUMBER</th>\n",
       "      <th>SEQUENCE NUMBER</th>\n",
       "      <th>DRAW DATE</th>\n",
       "      <th>NUMBER DRAWN 1</th>\n",
       "      <th>NUMBER DRAWN 2</th>\n",
       "      <th>NUMBER DRAWN 3</th>\n",
       "      <th>NUMBER DRAWN 4</th>\n",
       "      <th>NUMBER DRAWN 5</th>\n",
       "      <th>NUMBER DRAWN 6</th>\n",
       "      <th>BONUS NUMBER</th>\n",
       "    </tr>\n",
       "  </thead>\n",
       "  <tbody>\n",
       "    <tr>\n",
       "      <th>0</th>\n",
       "      <td>649</td>\n",
       "      <td>1</td>\n",
       "      <td>0</td>\n",
       "      <td>6/12/1982</td>\n",
       "      <td>3</td>\n",
       "      <td>11</td>\n",
       "      <td>12</td>\n",
       "      <td>14</td>\n",
       "      <td>41</td>\n",
       "      <td>43</td>\n",
       "      <td>13</td>\n",
       "    </tr>\n",
       "    <tr>\n",
       "      <th>1</th>\n",
       "      <td>649</td>\n",
       "      <td>2</td>\n",
       "      <td>0</td>\n",
       "      <td>6/19/1982</td>\n",
       "      <td>8</td>\n",
       "      <td>33</td>\n",
       "      <td>36</td>\n",
       "      <td>37</td>\n",
       "      <td>39</td>\n",
       "      <td>41</td>\n",
       "      <td>9</td>\n",
       "    </tr>\n",
       "    <tr>\n",
       "      <th>2</th>\n",
       "      <td>649</td>\n",
       "      <td>3</td>\n",
       "      <td>0</td>\n",
       "      <td>6/26/1982</td>\n",
       "      <td>1</td>\n",
       "      <td>6</td>\n",
       "      <td>23</td>\n",
       "      <td>24</td>\n",
       "      <td>27</td>\n",
       "      <td>39</td>\n",
       "      <td>34</td>\n",
       "    </tr>\n",
       "    <tr>\n",
       "      <th>3</th>\n",
       "      <td>649</td>\n",
       "      <td>4</td>\n",
       "      <td>0</td>\n",
       "      <td>7/3/1982</td>\n",
       "      <td>3</td>\n",
       "      <td>9</td>\n",
       "      <td>10</td>\n",
       "      <td>13</td>\n",
       "      <td>20</td>\n",
       "      <td>43</td>\n",
       "      <td>34</td>\n",
       "    </tr>\n",
       "    <tr>\n",
       "      <th>4</th>\n",
       "      <td>649</td>\n",
       "      <td>5</td>\n",
       "      <td>0</td>\n",
       "      <td>7/10/1982</td>\n",
       "      <td>5</td>\n",
       "      <td>14</td>\n",
       "      <td>21</td>\n",
       "      <td>31</td>\n",
       "      <td>34</td>\n",
       "      <td>47</td>\n",
       "      <td>45</td>\n",
       "    </tr>\n",
       "  </tbody>\n",
       "</table>\n",
       "</div>"
      ],
      "text/plain": [
       "   PRODUCT  DRAW NUMBER  SEQUENCE NUMBER  DRAW DATE  NUMBER DRAWN 1  \\\n",
       "0      649            1                0  6/12/1982               3   \n",
       "1      649            2                0  6/19/1982               8   \n",
       "2      649            3                0  6/26/1982               1   \n",
       "3      649            4                0   7/3/1982               3   \n",
       "4      649            5                0  7/10/1982               5   \n",
       "\n",
       "   NUMBER DRAWN 2  NUMBER DRAWN 3  NUMBER DRAWN 4  NUMBER DRAWN 5  \\\n",
       "0              11              12              14              41   \n",
       "1              33              36              37              39   \n",
       "2               6              23              24              27   \n",
       "3               9              10              13              20   \n",
       "4              14              21              31              34   \n",
       "\n",
       "   NUMBER DRAWN 6  BONUS NUMBER  \n",
       "0              43            13  \n",
       "1              41             9  \n",
       "2              39            34  \n",
       "3              43            34  \n",
       "4              47            45  "
      ]
     },
     "metadata": {},
     "output_type": "display_data"
    },
    {
     "data": {
      "text/plain": [
       "(3665, 11)"
      ]
     },
     "metadata": {},
     "output_type": "display_data"
    }
   ],
   "source": [
    "# Reading in dataset and viewing the head:\n",
    "raffle_history = pd.read_csv('649_lottery')\n",
    "display(raffle_history.head())\n",
    "display(raffle_history.shape)"
   ]
  },
  {
   "cell_type": "code",
   "execution_count": 5,
   "id": "3161b440",
   "metadata": {},
   "outputs": [
    {
     "data": {
      "text/plain": [
       "0        {3, 41, 11, 12, 43, 14}\n",
       "1        {33, 36, 37, 39, 8, 41}\n",
       "2         {1, 6, 39, 23, 24, 27}\n",
       "3         {3, 9, 10, 43, 13, 20}\n",
       "4        {34, 5, 14, 47, 21, 31}\n",
       "                  ...           \n",
       "3660    {38, 40, 41, 10, 15, 23}\n",
       "3661    {36, 46, 47, 19, 25, 31}\n",
       "3662     {32, 34, 6, 22, 24, 31}\n",
       "3663     {2, 38, 15, 49, 21, 31}\n",
       "3664    {35, 37, 14, 48, 24, 31}\n",
       "Length: 3665, dtype: object"
      ]
     },
     "execution_count": 5,
     "metadata": {},
     "output_type": "execute_result"
    }
   ],
   "source": [
    "def extract_numbers(row):\n",
    "    row = row[4:10]\n",
    "    row = set(row.values)\n",
    "    return row\n",
    "winning_numbers = raffle_history.apply(extract_numbers, axis=1)\n",
    "winning_numbers"
   ]
  },
  {
   "cell_type": "code",
   "execution_count": 6,
   "id": "698c869b",
   "metadata": {},
   "outputs": [
    {
     "data": {
      "text/plain": [
       "'Amount of times the numbers {1, 6, 39, 49, 24, 27} have won: 0'"
      ]
     },
     "execution_count": 6,
     "metadata": {},
     "output_type": "execute_result"
    }
   ],
   "source": [
    "def check_historical_occurences(numbers):\n",
    "    numbers = set(numbers)\n",
    "    occurences = 0\n",
    "    for row in winning_numbers:\n",
    "        if row == numbers:\n",
    "            occurences += 1\n",
    "    return 'Amount of times the numbers {} have won: {}'.format(numbers, occurences)\n",
    "check_historical_occurences([1, 6, 39, 49, 24, 27])"
   ]
  },
  {
   "cell_type": "markdown",
   "id": "a58451d2",
   "metadata": {},
   "source": [
    "## Multi-ticket chances"
   ]
  },
  {
   "cell_type": "code",
   "execution_count": 7,
   "id": "4c73d657",
   "metadata": {},
   "outputs": [
    {
     "data": {
      "text/plain": [
       "'Your chances of winning with 1 different tickets is 0.000007%, or 1 in 13,983,816'"
      ]
     },
     "metadata": {},
     "output_type": "display_data"
    },
    {
     "name": "stdout",
     "output_type": "stream",
     "text": [
      "-----\n"
     ]
    },
    {
     "data": {
      "text/plain": [
       "'Your chances of winning with 10 different tickets is 0.000072%, or 1 in 1,398,381'"
      ]
     },
     "metadata": {},
     "output_type": "display_data"
    },
    {
     "name": "stdout",
     "output_type": "stream",
     "text": [
      "-----\n"
     ]
    },
    {
     "data": {
      "text/plain": [
       "'Your chances of winning with 100 different tickets is 0.000715%, or 1 in 139,838'"
      ]
     },
     "metadata": {},
     "output_type": "display_data"
    },
    {
     "name": "stdout",
     "output_type": "stream",
     "text": [
      "-----\n"
     ]
    },
    {
     "data": {
      "text/plain": [
       "'Your chances of winning with 10,000 different tickets is 0.071511%, or 1 in 1,398'"
      ]
     },
     "metadata": {},
     "output_type": "display_data"
    },
    {
     "name": "stdout",
     "output_type": "stream",
     "text": [
      "-----\n"
     ]
    },
    {
     "data": {
      "text/plain": [
       "'Your chances of winning with 1,000,000 different tickets is 7.151124%, or 1 in 13'"
      ]
     },
     "metadata": {},
     "output_type": "display_data"
    },
    {
     "name": "stdout",
     "output_type": "stream",
     "text": [
      "-----\n"
     ]
    },
    {
     "data": {
      "text/plain": [
       "'Your chances of winning with 6,991,908 different tickets is 50.000000%, or 1 in 2'"
      ]
     },
     "metadata": {},
     "output_type": "display_data"
    },
    {
     "name": "stdout",
     "output_type": "stream",
     "text": [
      "-----\n"
     ]
    },
    {
     "data": {
      "text/plain": [
       "'Your chances of winning with 13,983,816 different tickets is 100.000000%, or 1 in 1'"
      ]
     },
     "metadata": {},
     "output_type": "display_data"
    },
    {
     "name": "stdout",
     "output_type": "stream",
     "text": [
      "-----\n"
     ]
    }
   ],
   "source": [
    "def multi_ticket(n):\n",
    "    if n > 13983816:\n",
    "        n_reg = 13983816\n",
    "    else:\n",
    "        n_reg = n\n",
    "    multi_ticket_chances = n_reg / possible_numbers\n",
    "    combinations_multi = possible_numbers / n_reg\n",
    "    return 'Your chances of winning with {:,} different tickets is {:.6f}%, or 1 in {:,}'.format(n, multi_ticket_chances * 100, int(combinations_multi))\n",
    "test_inputs = [1, 10, 100, 10000, 1000000, 6991908, 13983816]\n",
    "for test_input in test_inputs:\n",
    "    display(multi_ticket(test_input))\n",
    "    print('-----')"
   ]
  },
  {
   "cell_type": "markdown",
   "id": "ca163bf1",
   "metadata": {},
   "source": [
    "## Less than 6 Winning Numbers"
   ]
  },
  {
   "cell_type": "code",
   "execution_count": 8,
   "id": "2b4d2d15",
   "metadata": {},
   "outputs": [
    {
     "data": {
      "text/plain": [
       "'Your chances of winning 5 numbers is 0.00184%, or 1 in 54,200'"
      ]
     },
     "metadata": {},
     "output_type": "display_data"
    },
    {
     "name": "stdout",
     "output_type": "stream",
     "text": [
      "---\n"
     ]
    },
    {
     "data": {
      "text/plain": [
       "'Your chances of winning 4 numbers is 0.09686%, or 1 in 1,032'"
      ]
     },
     "metadata": {},
     "output_type": "display_data"
    },
    {
     "name": "stdout",
     "output_type": "stream",
     "text": [
      "---\n"
     ]
    },
    {
     "data": {
      "text/plain": [
       "'Your chances of winning 3 numbers is 1.76504%, or 1 in 56'"
      ]
     },
     "metadata": {},
     "output_type": "display_data"
    },
    {
     "name": "stdout",
     "output_type": "stream",
     "text": [
      "---\n"
     ]
    },
    {
     "data": {
      "text/plain": [
       "'Your chances of winning 2 numbers is 13.23780%, or 1 in 7'"
      ]
     },
     "metadata": {},
     "output_type": "display_data"
    },
    {
     "name": "stdout",
     "output_type": "stream",
     "text": [
      "---\n"
     ]
    }
   ],
   "source": [
    "def prob_under_6(n):\n",
    "    possible_combinations = combinations(6,n)\n",
    "    successful_outcomes = possible_combinations * combinations(43, 6 - n)\n",
    "    percentage = successful_outcomes / possible_numbers * 100\n",
    "    proportion = possible_numbers / successful_outcomes\n",
    "    return 'Your chances of winning {} numbers is {:.5f}%, or 1 in {:,}'.format(n, percentage, int(proportion))\n",
    "for num in [5,4,3,2]:\n",
    "    display(prob_under_6(num))\n",
    "    print('---')"
   ]
  },
  {
   "cell_type": "markdown",
   "id": "75b48a6e",
   "metadata": {},
   "source": [
    "## Interesting Analogies"
   ]
  },
  {
   "cell_type": "code",
   "execution_count": 9,
   "id": "de040cdb",
   "metadata": {},
   "outputs": [],
   "source": [
    "lightning_strike = 15300\n",
    "billionare = 578508\n",
    "olympic_gold = 662000\n",
    "asteroid = 1600000\n",
    "lottery = 13983816"
   ]
  },
  {
   "cell_type": "code",
   "execution_count": 10,
   "id": "7fb31e4c",
   "metadata": {},
   "outputs": [
    {
     "name": "stdout",
     "output_type": "stream",
     "text": [
      "It is 913.97 times more likely to be struck by lighting, \n",
      "      24.17 times more likely to become a billionaire, \n",
      "      21.12 times more likely to win an Olympic Gold Medal, and \n",
      "      8.74 times more likely to be hit by an asteroid \n",
      "      than to win the lottery with one ticket.\n"
     ]
    }
   ],
   "source": [
    "print('''It is {:.2f} times more likely to be struck by lighting, \n",
    "      {:.2f} times more likely to become a billionaire, \n",
    "      {:.2f} times more likely to win an Olympic Gold Medal, and \n",
    "      {:.2f} times more likely to be hit by an asteroid \n",
    "      than to win the lottery with one ticket.'''.format(lottery / lightning_strike, lottery / billionare, lottery / olympic_gold, lottery / asteroid))"
   ]
  }
 ],
 "metadata": {
  "kernelspec": {
   "display_name": "Python 3 (ipykernel)",
   "language": "python",
   "name": "python3"
  },
  "language_info": {
   "codemirror_mode": {
    "name": "ipython",
    "version": 3
   },
   "file_extension": ".py",
   "mimetype": "text/x-python",
   "name": "python",
   "nbconvert_exporter": "python",
   "pygments_lexer": "ipython3",
   "version": "3.9.13"
  }
 },
 "nbformat": 4,
 "nbformat_minor": 5
}
